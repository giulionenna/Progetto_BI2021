{
 "cells": [
  {
   "cell_type": "markdown",
   "metadata": {},
   "source": [
    "# SENTIMENT ANALYSIS\n",
    "\n",
    "Si vuole svolgere una sentiment analysis sui dati ottenuti dopo la pulizia e il clustering dei dati. Vogliamo perciç importare delle librerie e creare dei dataset utili a tale scopo.\n",
    "Si rammenti che l'analisi verrà svolta solamente sui cluster relativi alle restrizioni in Texas, sui vaccini e sulle scuole. "
   ]
  },
  {
   "cell_type": "code",
   "execution_count": 1,
   "metadata": {},
   "outputs": [],
   "source": [
    "import pandas as pd\n",
    "import matplotlib.pyplot as plt\n",
    "import numpy as np\n",
    "from nltk.sentiment import SentimentIntensityAnalyzer\n",
    "\n",
    "data = pd.read_excel('C:/Users/gsppp/OneDrive/Poli/Quarto Anno/Business Intelligence per Big Data/Progetto/ProgettoBIClusterAnalysis/clustered_data_KMeans.xlsx')\n",
    "df_en=pd.DataFrame(data)\n",
    "\n",
    "TexasDF  = df_en.loc[df_en['label_kmeans_01'] == 4].drop(['label_kmeans_05','label_kmeans_10','label_kmeans_PCA'],axis=1)\n",
    "PharmaDF = df_en.loc[df_en['label_kmeans_01'] == 2].drop(['label_kmeans_05','label_kmeans_10','label_kmeans_PCA'],axis=1)\n",
    "SchoolDF = df_en.loc[df_en['label_kmeans_01'] == 14].drop(['label_kmeans_05','label_kmeans_10','label_kmeans_PCA'],axis=1)"
   ]
  },
  {
   "cell_type": "markdown",
   "metadata": {},
   "source": [
    "Per potere svolgere una sentiment analysis definiamo l'oggetto `SentimentIntensityAnalyzer()`, che andrà a valutare, parola per parola, la polarità di ogni tweet. Ad ogni tweet verranno associate quattro metriche. La prima indicherà quanto il tweet è positivo, la seconda quanto il tweet è negativo, la terza quanto è neutro e la quarta (\"Compound\") darà una valutazione complessiva della polarità tweet.\n",
    "\n",
    "Proprio utilizzando la metrica compound riusciamo a capire se il tweet contenuto in un determinato cluster esprime dei sentimenti negativi o positivi. "
   ]
  },
  {
   "cell_type": "code",
   "execution_count": 2,
   "metadata": {},
   "outputs": [],
   "source": [
    "# Oggetto per svolgere la SA\n",
    "sia = SentimentIntensityAnalyzer()"
   ]
  },
  {
   "cell_type": "markdown",
   "metadata": {},
   "source": [
    "Definiamo ora la funzione `labeler` che, in base al valore di \"Compound\", associerà a ogni tweet una stringa che indicherà esplicitamente se il tweet ha contenuto positivo, negativo o neutro. "
   ]
  },
  {
   "cell_type": "code",
   "execution_count": 3,
   "metadata": {},
   "outputs": [],
   "source": [
    "# Questa funzione serve per etichettare i vari tweet\n",
    "def labeler(val):\n",
    "    if val > 0.05:\n",
    "        return \"positive\"\n",
    "    elif val < -0.05:\n",
    "        return \"negative\"\n",
    "    else:\n",
    "        return \"neutral\""
   ]
  },
  {
   "cell_type": "markdown",
   "metadata": {},
   "source": [
    "## Sentiment Analysis, Texas\n",
    "\n",
    "Ora modifichaimo il dataframe relativo al Texas e aggiungiamo usando `sia` e `labeler` delle colonne che indicano per ogni tweet le metriche e le etichette legate alla polarità del tweet. "
   ]
  },
  {
   "cell_type": "code",
   "execution_count": 4,
   "metadata": {
    "scrolled": true
   },
   "outputs": [
    {
     "data": {
      "text/html": [
       "<div>\n",
       "<style scoped>\n",
       "    .dataframe tbody tr th:only-of-type {\n",
       "        vertical-align: middle;\n",
       "    }\n",
       "\n",
       "    .dataframe tbody tr th {\n",
       "        vertical-align: top;\n",
       "    }\n",
       "\n",
       "    .dataframe thead th {\n",
       "        text-align: right;\n",
       "    }\n",
       "</style>\n",
       "<table border=\"1\" class=\"dataframe\">\n",
       "  <thead>\n",
       "    <tr style=\"text-align: right;\">\n",
       "      <th></th>\n",
       "      <th>positive</th>\n",
       "      <th>negative</th>\n",
       "      <th>neutral</th>\n",
       "      <th>compound</th>\n",
       "      <th>overall score</th>\n",
       "    </tr>\n",
       "  </thead>\n",
       "  <tbody>\n",
       "    <tr>\n",
       "      <th>0</th>\n",
       "      <td>0.106</td>\n",
       "      <td>0.135</td>\n",
       "      <td>0.759</td>\n",
       "      <td>-0.3257</td>\n",
       "      <td>negative</td>\n",
       "    </tr>\n",
       "    <tr>\n",
       "      <th>3</th>\n",
       "      <td>0.125</td>\n",
       "      <td>0.164</td>\n",
       "      <td>0.711</td>\n",
       "      <td>-0.4696</td>\n",
       "      <td>negative</td>\n",
       "    </tr>\n",
       "    <tr>\n",
       "      <th>5</th>\n",
       "      <td>0.000</td>\n",
       "      <td>0.315</td>\n",
       "      <td>0.685</td>\n",
       "      <td>-0.3182</td>\n",
       "      <td>negative</td>\n",
       "    </tr>\n",
       "    <tr>\n",
       "      <th>6</th>\n",
       "      <td>0.000</td>\n",
       "      <td>0.281</td>\n",
       "      <td>0.719</td>\n",
       "      <td>-0.6908</td>\n",
       "      <td>negative</td>\n",
       "    </tr>\n",
       "    <tr>\n",
       "      <th>7</th>\n",
       "      <td>0.239</td>\n",
       "      <td>0.000</td>\n",
       "      <td>0.761</td>\n",
       "      <td>0.8439</td>\n",
       "      <td>positive</td>\n",
       "    </tr>\n",
       "  </tbody>\n",
       "</table>\n",
       "</div>"
      ],
      "text/plain": [
       "   positive  negative  neutral  compound overall score\n",
       "0     0.106     0.135    0.759   -0.3257      negative\n",
       "3     0.125     0.164    0.711   -0.4696      negative\n",
       "5     0.000     0.315    0.685   -0.3182      negative\n",
       "6     0.000     0.281    0.719   -0.6908      negative\n",
       "7     0.239     0.000    0.761    0.8439      positive"
      ]
     },
     "execution_count": 4,
     "metadata": {},
     "output_type": "execute_result"
    }
   ],
   "source": [
    "writer = pd.ExcelWriter('Polarity', engine='xlsxwriter')\n",
    "\n",
    "# Calcolo i tweet positivi, negativi e neutri per il DF sul Texas\n",
    "TexasDF['positive'] = [sia.polarity_scores(str(tweet))['pos'] for tweet in TexasDF.text_clean]\n",
    "TexasDF['negative'] = [sia.polarity_scores(str(tweet))['neg'] for tweet in TexasDF.text_clean]\n",
    "TexasDF['neutral'] = [sia.polarity_scores(str(tweet))['neu'] for tweet in TexasDF.text_clean]\n",
    "TexasDF['compound'] = [sia.polarity_scores(str(tweet))['compound'] for tweet in TexasDF.text_clean]\n",
    "TexasDF['overall score'] = [labeler(val) for val in TexasDF.compound]\n",
    "\n",
    "TexasDF.iloc[:,11:16].head()"
   ]
  },
  {
   "cell_type": "markdown",
   "metadata": {},
   "source": [
    "Creiamo dei doughnut plot per vedere la percentuale di tweet positivi, negativi e neutri all'interno del cluster sulle restrizioni in Texas."
   ]
  },
  {
   "cell_type": "code",
   "execution_count": 5,
   "metadata": {},
   "outputs": [
    {
     "data": {
      "image/png": "[encoded data removed]",
      "text/plain": [
       "<Figure size 432x288 with 1 Axes>"
      ]
     },
     "metadata": {},
     "output_type": "display_data"
    }
   ],
   "source": [
    "TexasCNT = [0,0,0]\n",
    "TexasCNT[0] = TexasDF['overall score'].values.tolist().count(\"positive\")\n",
    "TexasCNT[1] = TexasDF['overall score'].values.tolist().count(\"negative\")\n",
    "TexasCNT[2] = TexasDF['overall score'].values.tolist().count(\"neutral\")\n",
    "\n",
    "TexasCNT\n",
    "len(TexasDF.compound) == sum(TexasCNT)\n",
    "\n",
    "# Donut plot - Texas\n",
    "TexasLabels = 'positive','negative','neutral'\n",
    "Colors = ['#2F329F','#2F7998','#2D475F'] # blue, turchese, grigio\n",
    "plt.pie(TexasCNT,labels=TexasLabels,autopct='%1.1f%%',pctdistance=0.5,colors=Colors)\n",
    "plt.title('Sentiment analysis del cluster relativo al Texas')\n",
    "plt.axis('equal')\n",
    "plt.legend()\n",
    "my_circle=plt.Circle( (0,0), 0.7, color='white')\n",
    "p=plt.gcf()\n",
    "p.gca().add_artist(my_circle)\n",
    "plt.show()\n",
    "\n",
    "TexasDF.to_excel(writer, sheet_name='TexasDF')"
   ]
  },
  {
   "cell_type": "markdown",
   "metadata": {},
   "source": [
    "## Sentiment Analysis, Vaccini\n",
    "\n",
    "Facciamo la stessa cosa per il cluster relativo ai vaccini."
   ]
  },
  {
   "cell_type": "code",
   "execution_count": 6,
   "metadata": {},
   "outputs": [
    {
     "data": {
      "text/html": [
       "<div>\n",
       "<style scoped>\n",
       "    .dataframe tbody tr th:only-of-type {\n",
       "        vertical-align: middle;\n",
       "    }\n",
       "\n",
       "    .dataframe tbody tr th {\n",
       "        vertical-align: top;\n",
       "    }\n",
       "\n",
       "    .dataframe thead th {\n",
       "        text-align: right;\n",
       "    }\n",
       "</style>\n",
       "<table border=\"1\" class=\"dataframe\">\n",
       "  <thead>\n",
       "    <tr style=\"text-align: right;\">\n",
       "      <th></th>\n",
       "      <th>positive</th>\n",
       "      <th>negative</th>\n",
       "      <th>neutral</th>\n",
       "      <th>compound</th>\n",
       "      <th>overall score</th>\n",
       "    </tr>\n",
       "  </thead>\n",
       "  <tbody>\n",
       "    <tr>\n",
       "      <th>39</th>\n",
       "      <td>0.319</td>\n",
       "      <td>0.0</td>\n",
       "      <td>0.681</td>\n",
       "      <td>0.8519</td>\n",
       "      <td>positive</td>\n",
       "    </tr>\n",
       "    <tr>\n",
       "      <th>83</th>\n",
       "      <td>0.218</td>\n",
       "      <td>0.0</td>\n",
       "      <td>0.782</td>\n",
       "      <td>0.7964</td>\n",
       "      <td>positive</td>\n",
       "    </tr>\n",
       "    <tr>\n",
       "      <th>95</th>\n",
       "      <td>0.000</td>\n",
       "      <td>0.0</td>\n",
       "      <td>1.000</td>\n",
       "      <td>0.0000</td>\n",
       "      <td>neutral</td>\n",
       "    </tr>\n",
       "    <tr>\n",
       "      <th>114</th>\n",
       "      <td>0.076</td>\n",
       "      <td>0.0</td>\n",
       "      <td>0.924</td>\n",
       "      <td>0.1007</td>\n",
       "      <td>positive</td>\n",
       "    </tr>\n",
       "    <tr>\n",
       "      <th>181</th>\n",
       "      <td>0.099</td>\n",
       "      <td>0.0</td>\n",
       "      <td>0.901</td>\n",
       "      <td>0.4753</td>\n",
       "      <td>positive</td>\n",
       "    </tr>\n",
       "  </tbody>\n",
       "</table>\n",
       "</div>"
      ],
      "text/plain": [
       "     positive  negative  neutral  compound overall score\n",
       "39      0.319       0.0    0.681    0.8519      positive\n",
       "83      0.218       0.0    0.782    0.7964      positive\n",
       "95      0.000       0.0    1.000    0.0000       neutral\n",
       "114     0.076       0.0    0.924    0.1007      positive\n",
       "181     0.099       0.0    0.901    0.4753      positive"
      ]
     },
     "execution_count": 6,
     "metadata": {},
     "output_type": "execute_result"
    }
   ],
   "source": [
    "# Calcolo i tweet positivi, negativi e neutri per il DF sulle aziende farmaceutiche\n",
    "PharmaDF['positive'] = [sia.polarity_scores(str(tweet))['pos'] for tweet in PharmaDF.text_clean]\n",
    "PharmaDF['negative'] = [sia.polarity_scores(str(tweet))['neg'] for tweet in PharmaDF.text_clean]\n",
    "PharmaDF['neutral'] = [sia.polarity_scores(str(tweet))['neu'] for tweet in PharmaDF.text_clean]\n",
    "PharmaDF['compound'] = [sia.polarity_scores(str(tweet))['compound'] for tweet in PharmaDF.text_clean]\n",
    "PharmaDF['overall score'] = [labeler(val) for val in PharmaDF.compound]\n",
    "\n",
    "PharmaDF.iloc[:,11:16].head()"
   ]
  },
  {
   "cell_type": "code",
   "execution_count": 7,
   "metadata": {},
   "outputs": [
    {
     "data": {
      "image/png": "[encoded data removed]",
      "text/plain": [
       "<Figure size 432x288 with 1 Axes>"
      ]
     },
     "metadata": {},
     "output_type": "display_data"
    }
   ],
   "source": [
    "PharmaCNT = [0,0,0]\n",
    "PharmaCNT[0] = PharmaDF['overall score'].values.tolist().count(\"positive\")\n",
    "PharmaCNT[1] = PharmaDF['overall score'].values.tolist().count(\"negative\")\n",
    "PharmaCNT[2] = PharmaDF['overall score'].values.tolist().count(\"neutral\")\n",
    "\n",
    "PharmaCNT\n",
    "len(PharmaDF.compound) == sum(PharmaCNT)\n",
    "\n",
    "# Donut plot - vaccini\n",
    "PharmaLabels = 'positive','negative','neutral'\n",
    "Colors = ['#2F329F','#2F7998','#2D475F'] # blue, turchese, grigio\n",
    "plt.pie(PharmaCNT,labels=PharmaLabels,autopct='%1.1f%%',pctdistance=0.5,colors=Colors)\n",
    "plt.title('Sentiment analysis del cluster relativo ai vaccini')\n",
    "plt.axis('equal')\n",
    "plt.legend()\n",
    "my_circle=plt.Circle( (0,0), 0.7, color='white')\n",
    "p=plt.gcf()\n",
    "p.gca().add_artist(my_circle)\n",
    "plt.show()\n",
    "\n",
    "PharmaDF.to_excel(writer, sheet_name='PharmaDF')"
   ]
  },
  {
   "cell_type": "markdown",
   "metadata": {},
   "source": [
    "## Sentiment Analysis, Scuole\n",
    "\n",
    "Finiamo questa prima parte con la sentiment analysis relativa al cluster sulel scuole. "
   ]
  },
  {
   "cell_type": "code",
   "execution_count": 8,
   "metadata": {},
   "outputs": [
    {
     "data": {
      "text/html": [
       "<div>\n",
       "<style scoped>\n",
       "    .dataframe tbody tr th:only-of-type {\n",
       "        vertical-align: middle;\n",
       "    }\n",
       "\n",
       "    .dataframe tbody tr th {\n",
       "        vertical-align: top;\n",
       "    }\n",
       "\n",
       "    .dataframe thead th {\n",
       "        text-align: right;\n",
       "    }\n",
       "</style>\n",
       "<table border=\"1\" class=\"dataframe\">\n",
       "  <thead>\n",
       "    <tr style=\"text-align: right;\">\n",
       "      <th></th>\n",
       "      <th>positive</th>\n",
       "      <th>negative</th>\n",
       "      <th>neutral</th>\n",
       "      <th>compound</th>\n",
       "      <th>overall score</th>\n",
       "    </tr>\n",
       "  </thead>\n",
       "  <tbody>\n",
       "    <tr>\n",
       "      <th>20</th>\n",
       "      <td>0.382</td>\n",
       "      <td>0.000</td>\n",
       "      <td>0.618</td>\n",
       "      <td>0.9117</td>\n",
       "      <td>positive</td>\n",
       "    </tr>\n",
       "    <tr>\n",
       "      <th>22</th>\n",
       "      <td>0.000</td>\n",
       "      <td>0.254</td>\n",
       "      <td>0.746</td>\n",
       "      <td>-0.5267</td>\n",
       "      <td>negative</td>\n",
       "    </tr>\n",
       "    <tr>\n",
       "      <th>23</th>\n",
       "      <td>0.000</td>\n",
       "      <td>0.000</td>\n",
       "      <td>1.000</td>\n",
       "      <td>0.0000</td>\n",
       "      <td>neutral</td>\n",
       "    </tr>\n",
       "    <tr>\n",
       "      <th>28</th>\n",
       "      <td>0.121</td>\n",
       "      <td>0.000</td>\n",
       "      <td>0.879</td>\n",
       "      <td>0.4404</td>\n",
       "      <td>positive</td>\n",
       "    </tr>\n",
       "    <tr>\n",
       "      <th>54</th>\n",
       "      <td>0.279</td>\n",
       "      <td>0.000</td>\n",
       "      <td>0.721</td>\n",
       "      <td>0.8176</td>\n",
       "      <td>positive</td>\n",
       "    </tr>\n",
       "  </tbody>\n",
       "</table>\n",
       "</div>"
      ],
      "text/plain": [
       "    positive  negative  neutral  compound overall score\n",
       "20     0.382     0.000    0.618    0.9117      positive\n",
       "22     0.000     0.254    0.746   -0.5267      negative\n",
       "23     0.000     0.000    1.000    0.0000       neutral\n",
       "28     0.121     0.000    0.879    0.4404      positive\n",
       "54     0.279     0.000    0.721    0.8176      positive"
      ]
     },
     "execution_count": 8,
     "metadata": {},
     "output_type": "execute_result"
    }
   ],
   "source": [
    "# Calcolo i tweet positivi, negativi e neutri per il DF sulle scuole\n",
    "SchoolDF['positive'] = [sia.polarity_scores(str(tweet))['pos'] for tweet in SchoolDF.text_clean]\n",
    "SchoolDF['negative'] = [sia.polarity_scores(str(tweet))['neg'] for tweet in SchoolDF.text_clean]\n",
    "SchoolDF['neutral'] = [sia.polarity_scores(str(tweet))['neu'] for tweet in SchoolDF.text_clean]\n",
    "SchoolDF['compound'] = [sia.polarity_scores(str(tweet))['compound'] for tweet in SchoolDF.text_clean]\n",
    "SchoolDF['overall score'] = [labeler(val) for val in SchoolDF.compound]\n",
    "\n",
    "SchoolDF.iloc[:,11:16].head()"
   ]
  },
  {
   "cell_type": "code",
   "execution_count": 9,
   "metadata": {},
   "outputs": [
    {
     "data": {
      "image/png": "[encoded data removed]",
      "text/plain": [
       "<Figure size 432x288 with 1 Axes>"
      ]
     },
     "metadata": {},
     "output_type": "display_data"
    }
   ],
   "source": [
    "SchoolCNT = [0,0,0]\n",
    "SchoolCNT[0] = SchoolDF['overall score'].values.tolist().count(\"positive\")\n",
    "SchoolCNT[1] = SchoolDF['overall score'].values.tolist().count(\"negative\")\n",
    "SchoolCNT[2] = SchoolDF['overall score'].values.tolist().count(\"neutral\")\n",
    "\n",
    "SchoolCNT\n",
    "len(SchoolDF.compound) == sum(SchoolCNT)\n",
    "\n",
    "# Donut plot - scuole\n",
    "SchoolLabels = 'positive','negative','neutral'\n",
    "Colors = ['#2F329F','#2F7998','#2D475F'] # blue, turchese, grigio\n",
    "plt.pie(SchoolCNT,labels=SchoolLabels,autopct='%1.1f%%',pctdistance=0.5,colors=Colors)\n",
    "plt.title('Sentiment analysis del cluster relativo alla scuola')\n",
    "plt.axis('equal')\n",
    "plt.legend()\n",
    "my_circle=plt.Circle( (0,0), 0.7, color='white')\n",
    "p=plt.gcf()\n",
    "p.gca().add_artist(my_circle)\n",
    "plt.show()\n",
    "\n",
    "\n",
    "SchoolDF.to_excel(writer, sheet_name='SchoolDF')\n",
    "writer.save()"
   ]
  },
  {
   "cell_type": "markdown",
   "metadata": {},
   "source": [
    "# Sentiment Analysis rispetto alla data di pubblicazione dei tweet\n",
    "\n",
    "Analizziamo come varia la polarità dei tweet in funzione della data di pubblicazione dei vari tweet, sempre condizionatamente ai tre cluster in analisi. \n",
    "A tal proposito importiamo la libreria `datetime` e settiamo la working directory."
   ]
  },
  {
   "cell_type": "code",
   "execution_count": 10,
   "metadata": {},
   "outputs": [],
   "source": [
    "from datetime import datetime\n",
    "import os as os\n",
    "os.chdir('C:/Users/gsppp/OneDrive/Poli/Quarto Anno/Business Intelligence per Big Data/Progetto/ProgettoBIClusterAnalysis')"
   ]
  },
  {
   "cell_type": "markdown",
   "metadata": {},
   "source": [
    "## Sentiment Analysis serie temporale, Texas"
   ]
  },
  {
   "cell_type": "code",
   "execution_count": 11,
   "metadata": {},
   "outputs": [],
   "source": [
    "# Calcolo i tweet positivi, negativi e neutri per il DF sul Texas rispetto alla data di pubblicazione del tweet\n",
    "TexasPosDF = pd.read_excel('Polarity.xlsx','TexasDF')\n",
    "TexasPosDF = TexasPosDF.loc[TexasPosDF['overall score']=='positive'].sort_values(by='created_at_ntz')\n",
    "TexasPosDF = TexasPosDF[~(TexasPosDF['created_at_ntz'] <= '2021-02-28')]\n",
    "TexasPosDF['new_date'] = [d.date() for d in TexasPosDF['created_at_ntz']]\n",
    "TexasPosDF['new_date'] = TexasPosDF['new_date'].astype(\"datetime64\")\n",
    "\n",
    "TexasNegDF = pd.read_excel('Polarity.xlsx','TexasDF')\n",
    "TexasNegDF = TexasNegDF.loc[TexasNegDF['overall score']=='negative'].sort_values(by='created_at_ntz')\n",
    "TexasNegDF = TexasNegDF[~(TexasNegDF['created_at_ntz'] <= '2021-02-28')]\n",
    "TexasNegDF['new_date'] = [d.date() for d in TexasNegDF['created_at_ntz']]\n",
    "TexasNegDF['new_date'] = TexasNegDF['new_date'].astype(\"datetime64\")\n",
    "\n",
    "TexasNeuDF = pd.read_excel('Polarity.xlsx','TexasDF')\n",
    "TexasNeuDF = TexasNeuDF.loc[TexasNeuDF['overall score']=='neutral'].sort_values(by='created_at_ntz')\n",
    "TexasNeuDF = TexasNeuDF[~(TexasNeuDF['created_at_ntz'] <= '2021-02-28')]\n",
    "TexasNeuDF['new_date'] = [d.date() for d in TexasNeuDF['created_at_ntz']]\n",
    "TexasNeuDF['new_date'] = TexasNeuDF['new_date'].astype(\"datetime64\")"
   ]
  },
  {
   "cell_type": "markdown",
   "metadata": {},
   "source": [
    "I tweet nel cluster relativo al Texas si distribuiscono rispetto alla data di pubblicazione nella seguente maniera:"
   ]
  },
  {
   "cell_type": "code",
   "execution_count": 12,
   "metadata": {},
   "outputs": [
    {
     "data": {
      "text/plain": [
       "new_date\n",
       "2021-03-01    33\n",
       "2021-03-02    57\n",
       "2021-03-03    49\n",
       "2021-03-04    52\n",
       "2021-03-05    49\n",
       "2021-03-06    38\n",
       "2021-03-07    39\n",
       "2021-03-08     4\n",
       "dtype: int64"
      ]
     },
     "execution_count": 12,
     "metadata": {},
     "output_type": "execute_result"
    }
   ],
   "source": [
    "TexasPosDF.groupby('new_date').size()"
   ]
  },
  {
   "cell_type": "code",
   "execution_count": 13,
   "metadata": {},
   "outputs": [
    {
     "data": {
      "text/plain": [
       "new_date\n",
       "2021-03-01    34\n",
       "2021-03-02    57\n",
       "2021-03-03    52\n",
       "2021-03-04    31\n",
       "2021-03-05    37\n",
       "2021-03-06    36\n",
       "2021-03-07    47\n",
       "2021-03-08     3\n",
       "dtype: int64"
      ]
     },
     "execution_count": 13,
     "metadata": {},
     "output_type": "execute_result"
    }
   ],
   "source": [
    "TexasNegDF.groupby('new_date').size()"
   ]
  },
  {
   "cell_type": "markdown",
   "metadata": {},
   "source": [
    "Produciamo degli stacked barplot per vedere come varia la polarità dei tweet in funzione della data di pubblicazione."
   ]
  },
  {
   "cell_type": "code",
   "execution_count": 14,
   "metadata": {},
   "outputs": [
    {
     "data": {
      "image/png": "[encoded data removed]",
      "text/plain": [
       "<Figure size 432x288 with 1 Axes>"
      ]
     },
     "metadata": {
      "needs_background": "light"
     },
     "output_type": "display_data"
    }
   ],
   "source": [
    "# Stacked Barplot - Texas: data di pubblicazione\n",
    "width = 0.35       \n",
    "fig, ax = plt.subplots()\n",
    "labels = ['1 mar','2 mar','3 mar','4 mar','5 mar','6 mar','7 mar','8 mar']\n",
    "ax.bar(labels, TexasPosDF.groupby('new_date').size(), width, label='Pos', color = '#2F329F', alpha = 0.5)\n",
    "ax.bar(labels, TexasNegDF.groupby('new_date').size(), width, label='Neg', color = '#2F7998', alpha = 0.5, bottom=TexasPosDF.groupby('new_date').size())\n",
    "ax.set_ylabel('Date')\n",
    "ax.set_ylabel('Frequenza assoluta')\n",
    "ax.set_title('Sentiment analysis del cluster relativo al Texas\\n rispetto al giorno di creazione del tweet')\n",
    "ax.legend()\n",
    "plt.show()"
   ]
  },
  {
   "cell_type": "markdown",
   "metadata": {},
   "source": [
    "## Sentiment Analysis serie temporale, Vaccini\n",
    "\n",
    "Facciamo la stessa cosa per il cluster dei vaccini."
   ]
  },
  {
   "cell_type": "code",
   "execution_count": 15,
   "metadata": {},
   "outputs": [
    {
     "data": {
      "text/plain": [
       "new_date\n",
       "2021-03-01     8\n",
       "2021-03-02     2\n",
       "2021-03-03     9\n",
       "2021-03-04    10\n",
       "2021-03-05    10\n",
       "2021-03-06     4\n",
       "2021-03-07     3\n",
       "dtype: int64"
      ]
     },
     "execution_count": 15,
     "metadata": {},
     "output_type": "execute_result"
    }
   ],
   "source": [
    "# Calcolo i tweet positivi, negativi e neutri per il DF sui vaccini rispetto alla data di pubblicazione del tweet\n",
    "PharmaPosDF = pd.read_excel('Polarity.xlsx','PharmaDF')\n",
    "PharmaPosDF = PharmaPosDF.loc[PharmaPosDF['overall score']=='positive'].sort_values(by='created_at_ntz')\n",
    "PharmaPosDF = PharmaPosDF[~(PharmaPosDF['created_at_ntz'] <= '2021-02-28')]\n",
    "PharmaPosDF['new_date'] = [d.date() for d in PharmaPosDF['created_at_ntz']]\n",
    "PharmaPosDF['new_date'] = PharmaPosDF['new_date'].astype(\"datetime64\")\n",
    "\n",
    "PharmaNegDF = pd.read_excel('Polarity.xlsx','PharmaDF')\n",
    "PharmaNegDF = PharmaNegDF.loc[PharmaNegDF['overall score']=='negative'].sort_values(by='created_at_ntz')\n",
    "PharmaNegDF = PharmaNegDF[~(PharmaNegDF['created_at_ntz'] <= '2021-02-28')]\n",
    "PharmaNegDF['new_date'] = [d.date() for d in PharmaNegDF['created_at_ntz']]\n",
    "PharmaNegDF['new_date'] = PharmaNegDF['new_date'].astype(\"datetime64\")\n",
    "\n",
    "PharmaNeuDF = pd.read_excel('Polarity.xlsx','PharmaDF')\n",
    "PharmaNeuDF = PharmaNeuDF.loc[PharmaNeuDF['overall score']=='neutral'].sort_values(by='created_at_ntz')\n",
    "PharmaNeuDF = PharmaNeuDF[~(PharmaNeuDF['created_at_ntz'] <= '2021-02-28')]\n",
    "PharmaNeuDF['new_date'] = [d.date() for d in PharmaNeuDF['created_at_ntz']]\n",
    "PharmaNeuDF['new_date'] = PharmaNeuDF['new_date'].astype(\"datetime64\")\n",
    "\n",
    "PhPos = PharmaPosDF.groupby('new_date').size()\n",
    "PhNeg = PharmaNegDF.groupby('new_date').size()\n",
    "\n",
    "PharmaPosDF.groupby('new_date').size()"
   ]
  },
  {
   "cell_type": "code",
   "execution_count": 16,
   "metadata": {},
   "outputs": [
    {
     "data": {
      "text/plain": [
       "new_date\n",
       "2021-03-01    3\n",
       "2021-03-02    4\n",
       "2021-03-03    3\n",
       "2021-03-04    2\n",
       "2021-03-05    1\n",
       "2021-03-07    2\n",
       "dtype: int64"
      ]
     },
     "execution_count": 16,
     "metadata": {},
     "output_type": "execute_result"
    }
   ],
   "source": [
    "PharmaNegDF.groupby('new_date').size()"
   ]
  },
  {
   "cell_type": "markdown",
   "metadata": {},
   "source": [
    "Si può notare come in alcuni giorni non sono stati prodotti tweet con polarità positiva o negativa. Poiché questo potrebbe creare problemi nella visualizzazione dei dati svolgiamo il seguente ciclo `while`."
   ]
  },
  {
   "cell_type": "code",
   "execution_count": 17,
   "metadata": {},
   "outputs": [],
   "source": [
    "TMP = PhNeg\n",
    "PhNeg = PhPos\n",
    "i=0\n",
    "while i < len(PhPos):\n",
    "    if i < 5:\n",
    "        PhNeg[i] = TMP[i]\n",
    "    elif i == 5:\n",
    "        PhNeg[i] = 0\n",
    "    elif i == 6:\n",
    "        PhNeg[i] = TMP[i-1]\n",
    "    i = i+1\n",
    "\n",
    "PhPos = PharmaPosDF.groupby('new_date').size()"
   ]
  },
  {
   "cell_type": "markdown",
   "metadata": {},
   "source": [
    "Produciamo anche in questo caso gli stacked barplot."
   ]
  },
  {
   "cell_type": "code",
   "execution_count": 18,
   "metadata": {},
   "outputs": [
    {
     "data": {
      "image/png": "[encoded data removed]",
      "text/plain": [
       "<Figure size 432x288 with 1 Axes>"
      ]
     },
     "metadata": {
      "needs_background": "light"
     },
     "output_type": "display_data"
    }
   ],
   "source": [
    "# Stacked Barplot - vaccini: data di pubblicazione\n",
    "width = 0.35       \n",
    "fig, ax = plt.subplots()\n",
    "labels = ['1 mar','2 mar','3 mar','4 mar','5 mar','6 mar','7 mar']\n",
    "ax.bar(labels, PhPos, width, label='Pos', color = '#2F329F', alpha = 0.5)\n",
    "ax.bar(labels, PhNeg, width, label='Neg', color = '#2F7998', alpha = 0.5, bottom=PhPos)\n",
    "ax.set_ylabel('Date')\n",
    "ax.set_ylabel('Frequenza assoluta')\n",
    "ax.set_title('Sentiment analysis del cluster relativo ai vaccini\\n rispetto al giorno di creazione del tweet')\n",
    "ax.legend()\n",
    "plt.show()"
   ]
  },
  {
   "cell_type": "markdown",
   "metadata": {},
   "source": [
    "## Sentiment Analysis serie temporale, Scuola\n",
    "\n",
    "Facciamo la stessa cosa per il cluster della scuola."
   ]
  },
  {
   "cell_type": "code",
   "execution_count": 19,
   "metadata": {},
   "outputs": [
    {
     "data": {
      "image/png": "[encoded data removed]",
      "text/plain": [
       "<Figure size 432x288 with 1 Axes>"
      ]
     },
     "metadata": {
      "needs_background": "light"
     },
     "output_type": "display_data"
    }
   ],
   "source": [
    "SchoolPosDF = pd.read_excel('Polarity.xlsx','SchoolDF')\n",
    "SchoolPosDF = SchoolPosDF.loc[SchoolPosDF['overall score']=='positive'].sort_values(by='created_at_ntz')\n",
    "SchoolPosDF = SchoolPosDF[~(SchoolPosDF['created_at_ntz'] <= '2021-02-28')]\n",
    "SchoolPosDF['new_date'] = [d.date() for d in SchoolPosDF['created_at_ntz']]\n",
    "SchoolPosDF['new_date'] = SchoolPosDF['new_date'].astype(\"datetime64\")\n",
    "\n",
    "SchoolNegDF = pd.read_excel('Polarity.xlsx','SchoolDF')\n",
    "SchoolNegDF = SchoolNegDF.loc[SchoolNegDF['overall score']=='negative'].sort_values(by='created_at_ntz')\n",
    "SchoolNegDF = SchoolNegDF[~(SchoolNegDF['created_at_ntz'] <= '2021-02-28')]\n",
    "SchoolNegDF['new_date'] = [d.date() for d in SchoolNegDF['created_at_ntz']]\n",
    "SchoolNegDF['new_date'] = SchoolNegDF['new_date'].astype(\"datetime64\")\n",
    "\n",
    "SchoolNeuDF = pd.read_excel('Polarity.xlsx','SchoolDF')\n",
    "SchoolNeuDF = SchoolNeuDF.loc[SchoolNeuDF['overall score']=='neutral'].sort_values(by='created_at_ntz')\n",
    "SchoolNeuDF = SchoolNeuDF[~(SchoolNeuDF['created_at_ntz'] <= '2021-02-28')]\n",
    "SchoolNeuDF['new_date'] = [d.date() for d in SchoolNeuDF['created_at_ntz']]\n",
    "SchoolNeuDF['new_date'] = SchoolNeuDF['new_date'].astype(\"datetime64\")\n",
    "\n",
    "ScPos = SchoolPosDF.groupby('new_date').size()\n",
    "ScNeg = SchoolNegDF.groupby('new_date').size()\n",
    "SchoolNeuDF.groupby('new_date').size()\n",
    "\n",
    "TMP = ScNeg\n",
    "ScNeg = ScPos\n",
    "i = 0\n",
    "while i < len(ScPos):\n",
    "    if i < 7:\n",
    "        ScNeg[i] = TMP[i]\n",
    "    if i == 7:\n",
    "        ScNeg[i] = 0\n",
    "    i = i+1\n",
    "\n",
    "ScPos = SchoolPosDF.groupby('new_date').size()\n",
    "\n",
    "# # Stacked Barplot - scuole: data di pubblicazione\n",
    "width = 0.35       \n",
    "fig, ax = plt.subplots()\n",
    "labels = ['1 mar','2 mar','3 mar','4 mar','5 mar','6 mar','7 mar','8 mar']\n",
    "ax.bar(labels, ScPos, width, label='Pos', color = '#2F329F', alpha = 0.5)\n",
    "ax.bar(labels, ScNeg, width, label='Neg', color = '#2F7998', alpha = 0.5, bottom=ScPos)\n",
    "ax.set_ylabel('Date')\n",
    "ax.set_ylabel('Frequenza assoluta')\n",
    "ax.set_title('Sentiment analysis del cluster relativo alle scuole\\n rispetto al giorno di creazione del tweet')\n",
    "ax.legend()\n",
    "plt.show()"
   ]
  },
  {
   "cell_type": "markdown",
   "metadata": {},
   "source": [
    "# Sentiment Analysis rispetto all'ora di pubblicazione del tweet\n",
    "\n",
    "Svolgiamo un'analisi analoga questa volta però rispetto all'ora di pubblicazione del tweet e vediamo come varia la distribuzione della polarità in funzione dell'orario di pubblicazione. \n",
    "Prima definiamo la funzione counter che servirà per conteggiare i vari tweet in funzione dell'orario di pubblicazione. "
   ]
  },
  {
   "cell_type": "code",
   "execution_count": 20,
   "metadata": {},
   "outputs": [],
   "source": [
    "def counter(series):\n",
    "    cnt = [0,0,0,0,0,0,0,0,0,0,0,0,0,0,0,0,0,0,0,0,0,0,0,0]\n",
    "    for line in series:\n",
    "        cnt[int(line)] = cnt[int(line)] + 1\n",
    "    return cnt"
   ]
  },
  {
   "cell_type": "markdown",
   "metadata": {},
   "source": [
    "Anche in questo caso produciamo degli stacked barplot relativi ai tre cluster in analisi."
   ]
  },
  {
   "cell_type": "markdown",
   "metadata": {},
   "source": [
    "## Sentiment Analysis rispetto all'orario, Texas"
   ]
  },
  {
   "cell_type": "code",
   "execution_count": 21,
   "metadata": {},
   "outputs": [
    {
     "data": {
      "image/png": "[encoded data removed]",
      "text/plain": [
       "<Figure size 432x288 with 1 Axes>"
      ]
     },
     "metadata": {
      "needs_background": "light"
     },
     "output_type": "display_data"
    }
   ],
   "source": [
    "# Calcolo i tweet positivi, negativi e neutri per il DF sul Texas rispetto all'ora di pubblicazione del tweet\n",
    "TexasHourDF = pd.read_excel('Polarity.xlsx','TexasDF')\n",
    "TexasHourDF['hour'] = pd.to_datetime(TexasHourDF['created_at_ntz'],format = '%H:%M:%S').dt.hour\n",
    "TexasHourDF = TexasHourDF.sort_values(by='hour')\n",
    "\n",
    "TexasHourPos = TexasHourDF.loc[TexasHourDF['overall score']=='positive']\n",
    "TexasHourNeg = TexasHourDF.loc[TexasHourDF['overall score']=='negative']\n",
    "TexasHourNeu = TexasHourDF.loc[TexasHourDF['overall score']=='neutral']\n",
    "\n",
    "TxPosHour = counter(TexasHourPos['hour'])\n",
    "TxNegHour = counter(TexasHourNeg['hour'])\n",
    "\n",
    "# Stacked Barplot - Texas: ora di pubblicazione\n",
    "width = 0.35       \n",
    "fig, ax = plt.subplots()\n",
    "labels = ['00','01','02','03','04','05','06','07','08','09','10','11','12','13','14','15','16','17','18','19','20','21','22','23']\n",
    "ax.bar(labels, TxPosHour, width, label='Pos', color = '#2F329F', alpha = 0.5)\n",
    "ax.bar(labels, TxNegHour, width, label='Neg', color = '#2F7998', alpha = 0.5, bottom=TxPosHour)\n",
    "ax.set_ylabel('Ore del giorno')\n",
    "ax.set_ylabel('Frequenza assoluta')\n",
    "ax.set_title('Sentiment analysis del cluster relativo al Texas\\n rispetto alle ore del giorno')\n",
    "ax.legend()\n",
    "plt.show()"
   ]
  },
  {
   "cell_type": "markdown",
   "metadata": {},
   "source": [
    "## Sentiment Analysis rispetto all'orario, Vaccini"
   ]
  },
  {
   "cell_type": "code",
   "execution_count": 22,
   "metadata": {},
   "outputs": [
    {
     "data": {
      "image/png": "[encoded data removed]",
      "text/plain": [
       "<Figure size 432x288 with 1 Axes>"
      ]
     },
     "metadata": {
      "needs_background": "light"
     },
     "output_type": "display_data"
    }
   ],
   "source": [
    "# Calcolo i tweet positivi, negativi e neutri per il DF sui vaccini rispetto all'ora di pubblicazione del tweet\n",
    "PharmaHourDF = pd.read_excel('Polarity.xlsx','PharmaDF')\n",
    "PharmaHourDF['hour'] = pd.to_datetime(PharmaHourDF['created_at_ntz'],format = '%H:%M:%S').dt.hour\n",
    "PharmaHourDF = PharmaHourDF.sort_values(by='hour')\n",
    "\n",
    "PharmaHourPos = PharmaHourDF.loc[PharmaHourDF['overall score']=='positive']\n",
    "PharmaHourNeg = PharmaHourDF.loc[PharmaHourDF['overall score']=='negative']\n",
    "PharmaHourNeu = PharmaHourDF.loc[PharmaHourDF['overall score']=='neutral']\n",
    "\n",
    "PhPosHour = counter(PharmaHourPos['hour'])\n",
    "PhNegHour = counter(PharmaHourNeg['hour'])\n",
    "\n",
    "# Stacked Barplot - vaccini: ora di pubblicazione\n",
    "width = 0.35       \n",
    "fig, ax = plt.subplots()\n",
    "labels = ['00','01','02','03','04','05','06','07','08','09','10','11','12','13','14','15','16','17','18','19','20','21','22','23']\n",
    "ax.bar(labels, PhPosHour, width, label='Pos', color = '#2F329F', alpha = 0.5)\n",
    "ax.bar(labels, PhNegHour, width, label='Neg', color = '#2F7998', alpha = 0.5, bottom=PhPosHour)\n",
    "ax.set_ylabel('Ore del giorno')\n",
    "ax.set_ylabel('Frequenza assoluta')\n",
    "ax.set_title('Sentiment analysis del cluster relativo ai vaccini\\n rispetto alle ore del giorno')\n",
    "ax.legend()\n",
    "plt.show()"
   ]
  },
  {
   "cell_type": "markdown",
   "metadata": {},
   "source": [
    "## Sentiment Analysis rispetto all'orario, Scuola"
   ]
  },
  {
   "cell_type": "code",
   "execution_count": 23,
   "metadata": {},
   "outputs": [
    {
     "data": {
      "image/png": "[encoded data removed]",
      "text/plain": [
       "<Figure size 432x288 with 1 Axes>"
      ]
     },
     "metadata": {
      "needs_background": "light"
     },
     "output_type": "display_data"
    }
   ],
   "source": [
    "# Calcolo i tweet positivi, negativi e neutri per il DF sulla scuola rispetto all'ora di pubblicazione del tweet\n",
    "SchoolHourDF = pd.read_excel('Polarity.xlsx','SchoolDF')\n",
    "SchoolHourDF['hour'] = pd.to_datetime(SchoolHourDF['created_at_ntz'],format = '%H:%M:%S').dt.hour\n",
    "SchoolHourDF = SchoolHourDF.sort_values(by='hour')\n",
    "\n",
    "SchoolHourPos = SchoolHourDF.loc[SchoolHourDF['overall score']=='positive']\n",
    "SchoolHourNeg = SchoolHourDF.loc[SchoolHourDF['overall score']=='negative']\n",
    "SchoolHourNeu = SchoolHourDF.loc[SchoolHourDF['overall score']=='neutral']\n",
    "\n",
    "ScPosHour = counter(SchoolHourPos['hour'])\n",
    "ScNegHour = counter(SchoolHourNeg['hour'])\n",
    "\n",
    "# Stacked Barplot - scuole: ora di pubblicazione\n",
    "width = 0.35       \n",
    "fig, ax = plt.subplots()\n",
    "labels = ['00','01','02','03','04','05','06','07','08','09','10','11','12','13','14','15','16','17','18','19','20','21','22','23']\n",
    "ax.bar(labels, ScPosHour, width, label='Pos', color = '#2F329F', alpha = 0.5)\n",
    "ax.bar(labels, ScNegHour, width, label='Neg', color = '#2F7998', alpha = 0.5, bottom=ScPosHour)\n",
    "ax.set_ylabel('Ore del giorno')\n",
    "ax.set_ylabel('Frequenza assoluta')\n",
    "ax.set_title('Sentiment analysis del cluster relativo alle scuole\\n rispetto alle ore del giorno')\n",
    "ax.legend()\n",
    "plt.show()"
   ]
  },
  {
   "cell_type": "markdown",
   "metadata": {},
   "source": [
    "# Sentiment Analysis rispetto al numero di *Mi Piace* del tweet\n",
    "\n",
    "Analizziamo adesso la distribuzione della polarità dei vari tweet in funzione dei *mi piace* del tweet.\n",
    "Anche in questo caso l'analisi sarà svolta condizionatamente ai cluster. \n",
    "\n",
    "Per potere fare quanto detto dividiamo tweet in base al loro numero di mi piace. \n",
    "In questo caso i barplot saranno visualizzati su scala del logaritmo di 2 per vedere meglio i dati. In questo caso anziché utilizzare degli stacked barplot useremo dei barplot multipli. "
   ]
  },
  {
   "cell_type": "markdown",
   "metadata": {},
   "source": [
    "Definiamo quindi le seguenti funzioni:"
   ]
  },
  {
   "cell_type": "markdown",
   "metadata": {},
   "source": [
    "`favCounter` crea un vettore di conteggi in cui contiamo quanti tweet hanno ottenuto un certo numero di mi piace."
   ]
  },
  {
   "cell_type": "code",
   "execution_count": 24,
   "metadata": {},
   "outputs": [],
   "source": [
    "def favCounter(series):\n",
    "    cnt = np.zeros(max(series)-min(series)+1,dtype=int)\n",
    "    for num in series:\n",
    "        cnt[num] = cnt[num] + 1\n",
    "    return cnt"
   ]
  },
  {
   "cell_type": "markdown",
   "metadata": {},
   "source": [
    "`shrinker` fa sì che ogni tweet venga assegnato alla delle classi di appartenenza in base al numero di *mi piace*, cioè il tweet può essere assegnato alla classe di '0' mi piace, di '1-10' mi piace, di '10-20' mi piace, di '20-50' mi piace e così via."
   ]
  },
  {
   "cell_type": "code",
   "execution_count": 25,
   "metadata": {},
   "outputs": [],
   "source": [
    "def shrinker(series):\n",
    "    histCnt = np.zeros(12,dtype=int)\n",
    "    i = 0\n",
    "    for num in series:\n",
    "        if i == 0:\n",
    "            histCnt[i] = histCnt[i] + num\n",
    "        elif i > 0 and i <= 10:\n",
    "            histCnt[0] = histCnt[0] + num\n",
    "        elif i > 10 and i <= 20:\n",
    "            histCnt[1] = histCnt[1] + num\n",
    "        elif i > 20 and i <= 50:\n",
    "            histCnt[2] = histCnt[2] + num\n",
    "        elif i > 50 and i <= 100:\n",
    "            histCnt[3] = histCnt[3] + num\n",
    "        elif i > 100 and i <= 200:\n",
    "            histCnt[4] = histCnt[4] + num\n",
    "        elif i > 200 and i <= 500:\n",
    "            histCnt[5] = histCnt[5] + num\n",
    "        elif i > 500 and i <= 1000:\n",
    "            histCnt[6] = histCnt[6] + num\n",
    "        elif i > 1000 and i <= 2000:\n",
    "            histCnt[7] = histCnt[7] + num\n",
    "        elif i > 2000 and i <= 5000:\n",
    "            histCnt[8] = histCnt[8] + num\n",
    "        elif i > 5000 and i <= 10000:\n",
    "            histCnt[9] = histCnt[9] + num\n",
    "        else:\n",
    "            histCnt[10] = histCnt[10] + num\n",
    "        i = i+1\n",
    "    return histCnt"
   ]
  },
  {
   "cell_type": "code",
   "execution_count": 26,
   "metadata": {},
   "outputs": [
    {
     "data": {
      "image/png": "[encoded data removed]",
      "text/plain": [
       "<Figure size 432x288 with 1 Axes>"
      ]
     },
     "metadata": {
      "needs_background": "light"
     },
     "output_type": "display_data"
    }
   ],
   "source": [
    "# Texas\n",
    "\n",
    "dataTexas = pd.read_excel('C:/Users/gsppp/OneDrive/Poli/Quarto Anno/Business Intelligence per Big Data/Progetto/ProgettoBIClusterAnalysis/Polarity.xlsx',sheet_name=0)\n",
    "fav_countDFTexas=pd.DataFrame(dataTexas)\n",
    "\n",
    "fav_countDFTexas['positive'] = [sia.polarity_scores(str(tweet))['pos'] for tweet in fav_countDFTexas.text_clean]\n",
    "fav_countDFTexas['negative'] = [sia.polarity_scores(str(tweet))['neg'] for tweet in fav_countDFTexas.text_clean]\n",
    "fav_countDFTexas['neutral'] = [sia.polarity_scores(str(tweet))['neu'] for tweet in fav_countDFTexas.text_clean]\n",
    "fav_countDFTexas['compound'] = [sia.polarity_scores(str(tweet))['compound'] for tweet in fav_countDFTexas.text_clean]\n",
    "fav_countDFTexas['overall score'] = [labeler(val) for val in fav_countDFTexas.compound]\n",
    "\n",
    "fav_countPosDFTexas = fav_countDFTexas.loc[fav_countDFTexas['overall score']=='positive'].sort_values(by='favorite_count')['favorite_count']\n",
    "fav_countNegDFTexas = fav_countDFTexas.loc[fav_countDFTexas['overall score']=='negative'].sort_values(by='favorite_count')['favorite_count']\n",
    "\n",
    "# Per chiarezza i conteggi dei \"mi piaci\" li riportiamo in scala di log2\n",
    "favPosCntTexas = shrinker(favCounter(fav_countPosDFTexas))\n",
    "i = 0\n",
    "for num in favPosCntTexas:\n",
    "    if num != 0:\n",
    "        favPosCntTexas[i] = np.log2(favPosCntTexas[i])\n",
    "    i = i+1\n",
    "\n",
    "favNegCntTexas = shrinker(favCounter(fav_countNegDFTexas))\n",
    "i = 0\n",
    "for num in favNegCntTexas:\n",
    "    if num != 0:\n",
    "        favNegCntTexas[i] = np.log2(favNegCntTexas[i])\n",
    "    i = i+1\n",
    " \n",
    "\n",
    "plt.rcParams['font.size'] = 6\n",
    "width = 0.35       \n",
    "fig, ax = plt.subplots()\n",
    "x = np.linspace(1,12,12) - 0.64*np.ones(12)\n",
    "labels = ['0','0-10','10-20','20-50','50-100','100-200','200-500','500-1000','1000-2000','2000-5000','5000-10000','>10000']\n",
    "ax.bar(labels, favPosCntTexas, width, label='Pos', color = '#2F329F', alpha = 0.5)\n",
    "ax.bar(x, favNegCntTexas, width, label='Neg', color = '#2F7998', alpha = 0.5)\n",
    "plt.xticks(rotation=45)\n",
    "ax.set_ylabel('Numero di link nel tweet')\n",
    "ax.set_ylabel('Frequenza assoluta in scala del logaritmo di 2')\n",
    "ax.set_title('Sentiment analysis rispetto al numero di \"mi piace\"\\n dei tweet sulle restrizioni in Texas')\n",
    "ax.legend()\n",
    "plt.show()"
   ]
  },
  {
   "cell_type": "code",
   "execution_count": 27,
   "metadata": {},
   "outputs": [
    {
     "data": {
      "image/png": "[encoded data removed]",
      "text/plain": [
       "<Figure size 432x288 with 1 Axes>"
      ]
     },
     "metadata": {
      "needs_background": "light"
     },
     "output_type": "display_data"
    }
   ],
   "source": [
    "# Pharma\n",
    "\n",
    "dataPharma = pd.read_excel('C:/Users/gsppp/OneDrive/Poli/Quarto Anno/Business Intelligence per Big Data/Progetto/ProgettoBIClusterAnalysis/Polarity.xlsx',sheet_name=1)\n",
    "fav_countDFPharma=pd.DataFrame(dataPharma)\n",
    "\n",
    "fav_countDFPharma['positive'] = [sia.polarity_scores(str(tweet))['pos'] for tweet in fav_countDFPharma.text_clean]\n",
    "fav_countDFPharma['negative'] = [sia.polarity_scores(str(tweet))['neg'] for tweet in fav_countDFPharma.text_clean]\n",
    "fav_countDFPharma['neutral'] = [sia.polarity_scores(str(tweet))['neu'] for tweet in fav_countDFPharma.text_clean]\n",
    "fav_countDFPharma['compound'] = [sia.polarity_scores(str(tweet))['compound'] for tweet in fav_countDFPharma.text_clean]\n",
    "fav_countDFPharma['overall score'] = [labeler(val) for val in fav_countDFPharma.compound]\n",
    "\n",
    "fav_countPosDFPharma = fav_countDFPharma.loc[fav_countDFPharma['overall score']=='positive'].sort_values(by='favorite_count')['favorite_count']\n",
    "fav_countNegDFPharma = fav_countDFPharma.loc[fav_countDFPharma['overall score']=='negative'].sort_values(by='favorite_count')['favorite_count']\n",
    "\n",
    "# Per chiarezza i conteggi dei \"mi piaci\" li riportiamo in scala di log2\n",
    "favPosCntPharma = shrinker(favCounter(fav_countPosDFPharma))\n",
    "i = 0\n",
    "for num in favPosCntPharma:\n",
    "    if num != 0:\n",
    "        favPosCntPharma[i] = np.log2(favPosCntPharma[i])\n",
    "    i = i+1\n",
    "\n",
    "favNegCntPharma = shrinker(favCounter(fav_countNegDFPharma))\n",
    "i = 0\n",
    "for num in favPosCntPharma:\n",
    "    if num != 0:\n",
    "        favPosCntPharma[i] = np.log2(favPosCntPharma[i])\n",
    "    i = i+1\n",
    "\n",
    "plt.rcParams['font.size'] = 6\n",
    "width = 0.35       \n",
    "fig, ax = plt.subplots()\n",
    "x = np.linspace(1,12,12) - 0.64*np.ones(12)\n",
    "labels = ['0','0-10','10-20','20-50','50-100','100-200','200-500','500-1000','1000-2000','2000-5000','5000-10000','>10000']\n",
    "ax.bar(labels, favPosCntPharma, width, label='Pos', color = '#2F329F', alpha = 0.5)\n",
    "ax.bar(x, favNegCntPharma, width, label='Neg', color = '#2F7998', alpha = 0.5)\n",
    "plt.xticks(rotation=45)\n",
    "ax.set_ylabel('Numero di link nel tweet')\n",
    "ax.set_ylabel('Frequenza assoluta in scala del logaritmo di 2')\n",
    "ax.set_title('Sentiment analysis rispetto al numero di \"mi piace\"\\n dei tweet sui vaccini')\n",
    "ax.legend()\n",
    "plt.show()"
   ]
  },
  {
   "cell_type": "code",
   "execution_count": 28,
   "metadata": {},
   "outputs": [
    {
     "data": {
      "image/png": "[encoded data removed]",
      "text/plain": [
       "<Figure size 432x288 with 1 Axes>"
      ]
     },
     "metadata": {
      "needs_background": "light"
     },
     "output_type": "display_data"
    }
   ],
   "source": [
    "# School\n",
    "\n",
    "dataSchool = pd.read_excel('C:/Users/gsppp/OneDrive/Poli/Quarto Anno/Business Intelligence per Big Data/Progetto/ProgettoBIClusterAnalysis/Polarity.xlsx',sheet_name=2)\n",
    "fav_countDFSchool=pd.DataFrame(dataSchool)\n",
    "\n",
    "fav_countDFSchool['positive'] = [sia.polarity_scores(str(tweet))['pos'] for tweet in fav_countDFSchool.text_clean]\n",
    "fav_countDFSchool['negative'] = [sia.polarity_scores(str(tweet))['neg'] for tweet in fav_countDFSchool.text_clean]\n",
    "fav_countDFSchool['neutral'] = [sia.polarity_scores(str(tweet))['neu'] for tweet in fav_countDFSchool.text_clean]\n",
    "fav_countDFSchool['compound'] = [sia.polarity_scores(str(tweet))['compound'] for tweet in fav_countDFSchool.text_clean]\n",
    "fav_countDFSchool['overall score'] = [labeler(val) for val in fav_countDFSchool.compound]\n",
    "\n",
    "fav_countPosDFSchool = fav_countDFSchool.loc[fav_countDFSchool['overall score']=='positive'].sort_values(by='favorite_count')['favorite_count']\n",
    "fav_countNegDFSchool = fav_countDFSchool.loc[fav_countDFSchool['overall score']=='negative'].sort_values(by='favorite_count')['favorite_count']\n",
    "\n",
    "# Per chiarezza i conteggi dei \"mi piaci\" li riportiamo in scala di log2\n",
    "favPosCntSchool = shrinker(favCounter(fav_countPosDFSchool))\n",
    "i = 0\n",
    "for num in favPosCntSchool:\n",
    "    if num != 0:\n",
    "        favPosCntSchool[i] = np.log2(favPosCntSchool[i])\n",
    "    i = i+1\n",
    "\n",
    "favNegCntSchool = shrinker(favCounter(fav_countNegDFSchool))\n",
    "i = 0\n",
    "for num in favNegCntSchool:\n",
    "    if num != 0:\n",
    "        favNegCntSchool[i] = np.log2(favNegCntSchool[i])\n",
    "    i = i+1\n",
    "\n",
    "plt.rcParams['font.size'] = 6\n",
    "width = 0.35       \n",
    "fig, ax = plt.subplots()\n",
    "x = np.linspace(1,12,12) - 0.64*np.ones(12)\n",
    "labels = ['0','0-10','10-20','20-50','50-100','100-200','200-500','500-1000','1000-2000','2000-5000','5000-10000','>10000']\n",
    "ax.bar(labels, favPosCntSchool, width, label='Pos', color = '#2F329F', alpha = 0.5)\n",
    "ax.bar(x, favNegCntSchool, width, label='Neg', color = '#2F7998', alpha = 0.5)\n",
    "plt.xticks(rotation=45)\n",
    "ax.set_ylabel('Numero di link nel tweet')\n",
    "ax.set_ylabel('Frequenza assoluta in scala del logaritmo di 2')\n",
    "ax.set_title('Sentiment analysis rispetto al numero di \"mi piace\"\\n dei tweet sulle scuole')\n",
    "ax.legend()\n",
    "plt.show()"
   ]
  },
  {
   "cell_type": "markdown",
   "metadata": {},
   "source": [
    "# Sentiment Analysis rispetto al numero di retweet del tweet\n",
    "\n",
    "Analizziamo adesso la distribuzione della polarità dei vari tweet in funzione dei retweet del tweet.\n",
    "Anche in questo caso l'analisi sarà svolta condizionatamente ai cluster. \n",
    "\n",
    "Seguiamo un approccio pressoché identico a quello dei *mi piace*."
   ]
  },
  {
   "cell_type": "markdown",
   "metadata": {},
   "source": [
    "Definiamo delle funzioni con cui possiamo conteggiare e partizionare i tweet in base al numero di retweet associato a ognuno di essi."
   ]
  },
  {
   "cell_type": "code",
   "execution_count": 29,
   "metadata": {},
   "outputs": [],
   "source": [
    "def RTCounter(series):\n",
    "    cnt = np.zeros(max(series)-min(series)+1,dtype=int)\n",
    "    for num in series:\n",
    "        cnt[num] = cnt[num] + 1\n",
    "    return cnt\n",
    "\n",
    "def RTshrinker(series):\n",
    "    histCnt = np.zeros(11,dtype=int)\n",
    "    i = 0\n",
    "    for num in series:\n",
    "        if i == 0:\n",
    "            histCnt[0] = histCnt[0] + num\n",
    "        elif i > 0 and i <= 10:\n",
    "            histCnt[1] = histCnt[1] + num\n",
    "        elif i > 10 and i <= 20:\n",
    "            histCnt[2] = histCnt[2] + num\n",
    "        elif i > 20 and i <= 50:\n",
    "            histCnt[3] = histCnt[3] + num\n",
    "        elif i > 50 and i <= 100:\n",
    "            histCnt[4] = histCnt[4] + num\n",
    "        elif i > 100 and i <= 200:\n",
    "            histCnt[5] = histCnt[5] + num\n",
    "        elif i > 200 and i <= 500:\n",
    "            histCnt[6] = histCnt[6] + num\n",
    "        elif i > 500 and i <= 1000:\n",
    "            histCnt[7] = histCnt[7] + num\n",
    "        elif i > 1000 and i <= 2000:\n",
    "            histCnt[8] = histCnt[8] + num\n",
    "        elif i > 2000 and i <= 5000:\n",
    "            histCnt[9] = histCnt[9] + num\n",
    "        else:\n",
    "            histCnt[10] = histCnt[10] + num\n",
    "        i = i+1\n",
    "    return histCnt"
   ]
  },
  {
   "cell_type": "markdown",
   "metadata": {},
   "source": [
    "Svolgiamo l'analisi per ogni cluster."
   ]
  },
  {
   "cell_type": "code",
   "execution_count": 30,
   "metadata": {},
   "outputs": [
    {
     "data": {
      "image/png": "[encoded data removed]",
      "text/plain": [
       "<Figure size 432x288 with 1 Axes>"
      ]
     },
     "metadata": {
      "needs_background": "light"
     },
     "output_type": "display_data"
    }
   ],
   "source": [
    "# Texas\n",
    "\n",
    "dataTexas = pd.read_excel('C:/Users/gsppp/OneDrive/Poli/Quarto Anno/Business Intelligence per Big Data/Progetto/ProgettoBIClusterAnalysis/Polarity.xlsx',sheet_name=0)\n",
    "RT_countDFTexas=pd.DataFrame(dataTexas)\n",
    "\n",
    "RT_countDFTexas['positive'] = [sia.polarity_scores(str(tweet))['pos'] for tweet in RT_countDFTexas.text_clean]\n",
    "RT_countDFTexas['negative'] = [sia.polarity_scores(str(tweet))['neg'] for tweet in RT_countDFTexas.text_clean]\n",
    "RT_countDFTexas['neutral'] = [sia.polarity_scores(str(tweet))['neu'] for tweet in RT_countDFTexas.text_clean]\n",
    "RT_countDFTexas['compound'] = [sia.polarity_scores(str(tweet))['compound'] for tweet in RT_countDFTexas.text_clean]\n",
    "RT_countDFTexas['overall score'] = [labeler(val) for val in RT_countDFTexas.compound]\n",
    "\n",
    "RT_countPosDFTexas = RT_countDFTexas.loc[RT_countDFTexas['overall score']=='positive'].sort_values(by='favorite_count')['favorite_count']\n",
    "RT_countNegDFTexas = RT_countDFTexas.loc[RT_countDFTexas['overall score']=='negative'].sort_values(by='favorite_count')['favorite_count']\n",
    "\n",
    "# Per chiarezza i conteggi dei \"mi piaci\" li riportiamo in scala di log2\n",
    "RTPosCntTexas = RTshrinker(RTCounter(RT_countPosDFTexas))\n",
    "RTNegCntTexas = RTshrinker(RTCounter(RT_countNegDFTexas))\n",
    "\n",
    "i = 0\n",
    "for num in RTPosCntTexas:\n",
    "    if num != 0:\n",
    "        RTPosCntTexas[i] = np.log2(RTPosCntTexas[i])\n",
    "    i = i+1\n",
    "\n",
    "i = 0\n",
    "for num in RTNegCntTexas:\n",
    "    if num != 0:\n",
    "        RTNegCntTexas[i] = np.log2(RTNegCntTexas[i])\n",
    "    i = i+1\n",
    "\n",
    "plt.rcParams['font.size'] = 6\n",
    "width = 0.35       \n",
    "fig, ax = plt.subplots()\n",
    "x = np.linspace(1,11,11) - 0.65*np.ones(11)\n",
    "labels = ['0','1-10','10-20','20-50','50-100','100-200','200-500','500-1000','1000-2000','2000-5000','>5000']\n",
    "ax.bar(labels, RTPosCntTexas, width, label='Pos', color = '#2F329F', alpha = 0.5)\n",
    "ax.bar(x, RTPosCntTexas, width, label='Neg', color = '#2F7998', alpha = 0.5)\n",
    "plt.xticks(rotation=45)\n",
    "ax.set_ylabel('Numero di link nel tweet')\n",
    "ax.set_ylabel('Frequenza assoluta in scala del logaritmo di 2')\n",
    "ax.set_title('Sentiment analysis rispetto al numero di retweet\\n dei tweet sulle restrizioni in Texas')\n",
    "ax.legend()\n",
    "plt.show()\n"
   ]
  },
  {
   "cell_type": "code",
   "execution_count": 31,
   "metadata": {},
   "outputs": [
    {
     "data": {
      "image/png": "[encoded data removed]",
      "text/plain": [
       "<Figure size 432x288 with 1 Axes>"
      ]
     },
     "metadata": {
      "needs_background": "light"
     },
     "output_type": "display_data"
    }
   ],
   "source": [
    "# Pharma\n",
    "\n",
    "dataPharma = pd.read_excel('C:/Users/gsppp/OneDrive/Poli/Quarto Anno/Business Intelligence per Big Data/Progetto/ProgettoBIClusterAnalysis/Polarity.xlsx',sheet_name=1)\n",
    "RT_countDFPharma=pd.DataFrame(dataPharma)\n",
    "\n",
    "RT_countDFPharma['positive'] = [sia.polarity_scores(str(tweet))['pos'] for tweet in RT_countDFPharma.text_clean]\n",
    "RT_countDFPharma['negative'] = [sia.polarity_scores(str(tweet))['neg'] for tweet in RT_countDFPharma.text_clean]\n",
    "RT_countDFPharma['neutral'] = [sia.polarity_scores(str(tweet))['neu'] for tweet in RT_countDFPharma.text_clean]\n",
    "RT_countDFPharma['compound'] = [sia.polarity_scores(str(tweet))['compound'] for tweet in RT_countDFPharma.text_clean]\n",
    "RT_countDFPharma['overall score'] = [labeler(val) for val in RT_countDFPharma.compound]\n",
    "\n",
    "RT_countPosDFPharma = RT_countDFPharma.loc[RT_countDFPharma['overall score']=='positive'].sort_values(by='favorite_count')['favorite_count']\n",
    "RT_countNegDFPharma = RT_countDFPharma.loc[RT_countDFPharma['overall score']=='negative'].sort_values(by='favorite_count')['favorite_count']\n",
    "\n",
    "# Per chiarezza i conteggi dei \"mi piaci\" li riportiamo in scala di log2\n",
    "RTPosCntPharma = RTshrinker(RTCounter(RT_countPosDFPharma))\n",
    "RTNegCntPharma = RTshrinker(RTCounter(RT_countNegDFPharma))\n",
    "\n",
    "i = 0\n",
    "for num in RTPosCntPharma:\n",
    "    if num != 0:\n",
    "        RTPosCntPharma[i] = np.log2(RTPosCntPharma[i])\n",
    "    i = i+1\n",
    "\n",
    "i = 0\n",
    "for num in RTNegCntPharma:\n",
    "    if num != 0:\n",
    "        RTNegCntPharma[i] = np.log2(RTNegCntPharma[i])\n",
    "    i = i+1\n",
    "\n",
    "plt.rcParams['font.size'] = 6\n",
    "width = 0.35       \n",
    "fig, ax = plt.subplots()\n",
    "x = np.linspace(1,11,11) - 0.65*np.ones(11)\n",
    "labels = ['0','1-10','10-20','20-50','50-100','100-200','200-500','500-1000','1000-2000','2000-5000','>5000']\n",
    "ax.bar(labels, RTPosCntPharma, width, label='Pos', color = '#2F329F', alpha = 0.5)\n",
    "ax.bar(x, RTNegCntPharma, width, label='Neg', color = '#2F7998', alpha = 0.5)\n",
    "plt.xticks(rotation=45)\n",
    "ax.set_ylabel('Numero di link nel tweet')\n",
    "ax.set_ylabel('Frequenza assoluta in scala del logaritmo di 2')\n",
    "ax.set_title('Sentiment analysis rispetto al numero di retweet\\n dei tweet sui vaccini')\n",
    "ax.legend()\n",
    "plt.show()"
   ]
  },
  {
   "cell_type": "code",
   "execution_count": 32,
   "metadata": {},
   "outputs": [
    {
     "data": {
      "image/png": "[encoded data removed]",
      "text/plain": [
       "<Figure size 432x288 with 1 Axes>"
      ]
     },
     "metadata": {
      "needs_background": "light"
     },
     "output_type": "display_data"
    }
   ],
   "source": [
    "# School\n",
    "\n",
    "dataSchool = pd.read_excel('C:/Users/gsppp/OneDrive/Poli/Quarto Anno/Business Intelligence per Big Data/Progetto/ProgettoBIClusterAnalysis/Polarity.xlsx',sheet_name=2)\n",
    "RT_countDFSchool=pd.DataFrame(dataSchool)\n",
    "\n",
    "RT_countDFSchool['positive'] = [sia.polarity_scores(str(tweet))['pos'] for tweet in RT_countDFSchool.text_clean]\n",
    "RT_countDFSchool['negative'] = [sia.polarity_scores(str(tweet))['neg'] for tweet in RT_countDFSchool.text_clean]\n",
    "RT_countDFSchool['neutral'] = [sia.polarity_scores(str(tweet))['neu'] for tweet in RT_countDFSchool.text_clean]\n",
    "RT_countDFSchool['compound'] = [sia.polarity_scores(str(tweet))['compound'] for tweet in RT_countDFSchool.text_clean]\n",
    "RT_countDFSchool['overall score'] = [labeler(val) for val in RT_countDFSchool.compound]\n",
    "\n",
    "RT_countPosDFSchool = RT_countDFSchool.loc[RT_countDFSchool['overall score']=='positive'].sort_values(by='favorite_count')['favorite_count']\n",
    "RT_countNegDFSchool = RT_countDFSchool.loc[RT_countDFSchool['overall score']=='negative'].sort_values(by='favorite_count')['favorite_count']\n",
    "\n",
    "# Per chiarezza i conteggi dei \"mi piaci\" li riportiamo in scala di log2\n",
    "RTPosCntSchool = RTshrinker(RTCounter(RT_countPosDFSchool))\n",
    "RTNegCntSchool = RTshrinker(RTCounter(RT_countNegDFSchool))\n",
    "\n",
    "i = 0\n",
    "for num in RTPosCntSchool:\n",
    "    if num != 0:\n",
    "        RTPosCntSchool[i] = np.log2(RTPosCntSchool[i])\n",
    "    i = i+1\n",
    "\n",
    "i = 0\n",
    "for num in RTNegCntSchool:\n",
    "    if num != 0:\n",
    "        RTNegCntSchool[i] = np.log2(RTNegCntSchool[i])\n",
    "    i = i+1\n",
    "    \n",
    "plt.rcParams['font.size'] = 6\n",
    "width = 0.35       \n",
    "fig, ax = plt.subplots()\n",
    "x = np.linspace(1,11,11) - 0.65*np.ones(11)\n",
    "labels = ['0','1-10','10-20','20-50','50-100','100-200','200-500','500-1000','1000-2000','2000-5000','>5000']\n",
    "ax.bar(labels, RTPosCntSchool, width, label='Pos', color = '#2F329F', alpha = 0.5)\n",
    "ax.bar(x, RTNegCntSchool, width, label='Neg', color = '#2F7998', alpha = 0.5)\n",
    "plt.xticks(rotation=45)\n",
    "ax.set_ylabel('Numero di link nel tweet')\n",
    "ax.set_ylabel('Frequenza assoluta in scala del logaritmo di 2')\n",
    "ax.set_title('Sentiment analysis rispetto al numero di retweet\\n dei tweet sulle scuole')\n",
    "ax.legend()\n",
    "plt.show()"
   ]
  },
  {
   "cell_type": "code",
   "execution_count": null,
   "metadata": {},
   "outputs": [],
   "source": []
  }
 ],
 "metadata": {
  "kernelspec": {
   "display_name": "Python 3",
   "language": "python",
   "name": "python3"
  },
  "language_info": {
   "codemirror_mode": {
    "name": "ipython",
    "version": 3
   },
   "file_extension": ".py",
   "mimetype": "text/x-python",
   "name": "python",
   "nbconvert_exporter": "python",
   "pygments_lexer": "ipython3",
   "version": "3.8.5"
  }
 },
 "nbformat": 4,
 "nbformat_minor": 4
}
