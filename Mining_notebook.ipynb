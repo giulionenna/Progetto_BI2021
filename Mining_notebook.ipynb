{
 "metadata": {
  "language_info": {
   "codemirror_mode": {
    "name": "ipython",
    "version": 3
   },
   "file_extension": ".py",
   "mimetype": "text/x-python",
   "name": "python",
   "nbconvert_exporter": "python",
   "pygments_lexer": "ipython3",
   "version": "3.8.3"
  },
  "orig_nbformat": 2,
  "kernelspec": {
   "name": "python3",
   "display_name": "Python 3.8.3 64-bit"
  },
  "metadata": {
   "interpreter": {
    "hash": "b0c5e0e2f737906a831bf449faf126f39cd636d4f6af7f79c115270e6548b001"
   }
  },
  "interpreter": {
   "hash": "b0c5e0e2f737906a831bf449faf126f39cd636d4f6af7f79c115270e6548b001"
  }
 },
 "nbformat": 4,
 "nbformat_minor": 2,
 "cells": [
  {
   "cell_type": "code",
   "execution_count": 1,
   "metadata": {},
   "outputs": [],
   "source": [
    "import numpy as np\n",
    "import pandas as pd\n",
    "import matplotlib.pyplot as plt\n",
    "import ast"
   ]
  },
  {
   "cell_type": "code",
   "execution_count": 2,
   "metadata": {},
   "outputs": [],
   "source": [
    "data = pd.read_csv(r'C:\\Users\\giuli\\Documents\\GitHub\\Progetto_BI2021\\data.csv', parse_dates=['created_at'])\n",
    "df = pd.DataFrame(data)"
   ]
  },
  {
   "source": [
    "## DECODING DEL TESTO ALL INTERNO DELLA COLONNA `text`. \n",
    "All interno della colonna text è presente una rappresentazione di un bytes sotto forma di stringa. Questa può essere valutata attraverso la funzione `ast.literal_eval(string)` e quindi decodificata\n",
    "#secondo la codifica appropriata tramite il metodo decode"
   ],
   "cell_type": "markdown",
   "metadata": {}
  },
  {
   "cell_type": "code",
   "execution_count": 3,
   "metadata": {},
   "outputs": [
    {
     "output_type": "execute_result",
     "data": {
      "text/plain": [
       "      favorite_count               source  \\\n",
       "0                  1  Twitter for Android   \n",
       "1                  0   Twitter for iPhone   \n",
       "2                  0  Twitter for Android   \n",
       "3                  0      Twitter Web App   \n",
       "4                  0   Twitter for iPhone   \n",
       "...              ...                  ...   \n",
       "4163               4     Tweetbot for Mac   \n",
       "4164               5      Twitter Web App   \n",
       "4165               2  Twitter for Android   \n",
       "4166               8      Twitter Web App   \n",
       "4167               0               Buffer   \n",
       "\n",
       "                                                   text  is_retweet  \\\n",
       "0     b'La #monarqu\\xc3\\xada se burla a diario de lo...       False   \n",
       "1     b'@TitusNation the CON serving CONservative GO...       False   \n",
       "2     b'#Coronavirus\\nAustria and Denmark are to sto...       False   \n",
       "3     b'BMC launches \\xe2\\x80\\x98Mission Zero\\xe2\\x8...       False   \n",
       "4     b'@Gadaffyduck @IsabelOakeshott @AmandaHolden ...       False   \n",
       "...                                                 ...         ...   \n",
       "4163  b'In other news, I have been jabbed with the f...       False   \n",
       "4164  b\"So nearly 10% of today's new cases are the n...       False   \n",
       "4165  b\"Read this\\n\\nThen read it again\\n\\nWritten, ...       False   \n",
       "4166  b'\\xe2\\x80\\xbc\\xef\\xb8\\x8fUpdate\\xe2\\x80\\xbc\\x...       False   \n",
       "4167  b\"As part NJ's efforts to expand access to men...       False   \n",
       "\n",
       "                    created_at  retweet_count  \\\n",
       "0    2021-03-03 07:46:48+00:00              0   \n",
       "1    2021-03-03 17:22:21+00:00              0   \n",
       "2    2021-03-03 08:47:26+00:00              0   \n",
       "3    2021-03-01 12:23:57+00:00              0   \n",
       "4    2021-03-04 20:49:11+00:00              0   \n",
       "...                        ...            ...   \n",
       "4163 2021-03-02 19:18:52+00:00              0   \n",
       "4164 2021-03-04 22:56:28+00:00              4   \n",
       "4165 2021-03-04 07:46:47+00:00              1   \n",
       "4166 2021-03-04 12:39:09+00:00              4   \n",
       "4167 2021-03-01 13:26:15+00:00              1   \n",
       "\n",
       "                                               text_enc  \n",
       "0     La #monarquía se burla a diario de los español...  \n",
       "1     @TitusNation the CON serving CONservative GOP ...  \n",
       "2     #Coronavirus\\nAustria and Denmark are to stop ...  \n",
       "3     BMC launches ‘Mission Zero’ in Mumbai again to...  \n",
       "4     @Gadaffyduck @IsabelOakeshott @AmandaHolden Du...  \n",
       "...                                                 ...  \n",
       "4163  In other news, I have been jabbed with the fir...  \n",
       "4164  So nearly 10% of today's new cases are the new...  \n",
       "4165  Read this\\n\\nThen read it again\\n\\nWritten, pr...  \n",
       "4166  ‼️Update‼️  Individuals who file an IRS Form 1...  \n",
       "4167  As part NJ's efforts to expand access to menta...  \n",
       "\n",
       "[4168 rows x 7 columns]"
      ],
      "text/html": "<div>\n<style scoped>\n    .dataframe tbody tr th:only-of-type {\n        vertical-align: middle;\n    }\n\n    .dataframe tbody tr th {\n        vertical-align: top;\n    }\n\n    .dataframe thead th {\n        text-align: right;\n    }\n</style>\n<table border=\"1\" class=\"dataframe\">\n  <thead>\n    <tr style=\"text-align: right;\">\n      <th></th>\n      <th>favorite_count</th>\n      <th>source</th>\n      <th>text</th>\n      <th>is_retweet</th>\n      <th>created_at</th>\n      <th>retweet_count</th>\n      <th>text_enc</th>\n    </tr>\n  </thead>\n  <tbody>\n    <tr>\n      <th>0</th>\n      <td>1</td>\n      <td>Twitter for Android</td>\n      <td>b'La #monarqu\\xc3\\xada se burla a diario de lo...</td>\n      <td>False</td>\n      <td>2021-03-03 07:46:48+00:00</td>\n      <td>0</td>\n      <td>La #monarquía se burla a diario de los español...</td>\n    </tr>\n    <tr>\n      <th>1</th>\n      <td>0</td>\n      <td>Twitter for iPhone</td>\n      <td>b'@TitusNation the CON serving CONservative GO...</td>\n      <td>False</td>\n      <td>2021-03-03 17:22:21+00:00</td>\n      <td>0</td>\n      <td>@TitusNation the CON serving CONservative GOP ...</td>\n    </tr>\n    <tr>\n      <th>2</th>\n      <td>0</td>\n      <td>Twitter for Android</td>\n      <td>b'#Coronavirus\\nAustria and Denmark are to sto...</td>\n      <td>False</td>\n      <td>2021-03-03 08:47:26+00:00</td>\n      <td>0</td>\n      <td>#Coronavirus\\nAustria and Denmark are to stop ...</td>\n    </tr>\n    <tr>\n      <th>3</th>\n      <td>0</td>\n      <td>Twitter Web App</td>\n      <td>b'BMC launches \\xe2\\x80\\x98Mission Zero\\xe2\\x8...</td>\n      <td>False</td>\n      <td>2021-03-01 12:23:57+00:00</td>\n      <td>0</td>\n      <td>BMC launches ‘Mission Zero’ in Mumbai again to...</td>\n    </tr>\n    <tr>\n      <th>4</th>\n      <td>0</td>\n      <td>Twitter for iPhone</td>\n      <td>b'@Gadaffyduck @IsabelOakeshott @AmandaHolden ...</td>\n      <td>False</td>\n      <td>2021-03-04 20:49:11+00:00</td>\n      <td>0</td>\n      <td>@Gadaffyduck @IsabelOakeshott @AmandaHolden Du...</td>\n    </tr>\n    <tr>\n      <th>...</th>\n      <td>...</td>\n      <td>...</td>\n      <td>...</td>\n      <td>...</td>\n      <td>...</td>\n      <td>...</td>\n      <td>...</td>\n    </tr>\n    <tr>\n      <th>4163</th>\n      <td>4</td>\n      <td>Tweetbot for Mac</td>\n      <td>b'In other news, I have been jabbed with the f...</td>\n      <td>False</td>\n      <td>2021-03-02 19:18:52+00:00</td>\n      <td>0</td>\n      <td>In other news, I have been jabbed with the fir...</td>\n    </tr>\n    <tr>\n      <th>4164</th>\n      <td>5</td>\n      <td>Twitter Web App</td>\n      <td>b\"So nearly 10% of today's new cases are the n...</td>\n      <td>False</td>\n      <td>2021-03-04 22:56:28+00:00</td>\n      <td>4</td>\n      <td>So nearly 10% of today's new cases are the new...</td>\n    </tr>\n    <tr>\n      <th>4165</th>\n      <td>2</td>\n      <td>Twitter for Android</td>\n      <td>b\"Read this\\n\\nThen read it again\\n\\nWritten, ...</td>\n      <td>False</td>\n      <td>2021-03-04 07:46:47+00:00</td>\n      <td>1</td>\n      <td>Read this\\n\\nThen read it again\\n\\nWritten, pr...</td>\n    </tr>\n    <tr>\n      <th>4166</th>\n      <td>8</td>\n      <td>Twitter Web App</td>\n      <td>b'\\xe2\\x80\\xbc\\xef\\xb8\\x8fUpdate\\xe2\\x80\\xbc\\x...</td>\n      <td>False</td>\n      <td>2021-03-04 12:39:09+00:00</td>\n      <td>4</td>\n      <td>‼️Update‼️  Individuals who file an IRS Form 1...</td>\n    </tr>\n    <tr>\n      <th>4167</th>\n      <td>0</td>\n      <td>Buffer</td>\n      <td>b\"As part NJ's efforts to expand access to men...</td>\n      <td>False</td>\n      <td>2021-03-01 13:26:15+00:00</td>\n      <td>1</td>\n      <td>As part NJ's efforts to expand access to menta...</td>\n    </tr>\n  </tbody>\n</table>\n<p>4168 rows × 7 columns</p>\n</div>"
     },
     "metadata": {},
     "execution_count": 3
    }
   ],
   "source": [
    "text_enc = []\n",
    "for i in range(0, df.text.size):\n",
    "    txt= ast.literal_eval(df.text[i]).decode('utf-8')\n",
    "    text_enc.append(txt)\n",
    "\n",
    "df['text_enc'] = text_enc\n",
    "df"
   ]
  },
  {
   "source": [
    "## Pulizia dei Tweet\n",
    "Attraverso le Regular Expressions vado a rimuovere elementi come:\n",
    "* @menzioni\n",
    "* Hashtag\n",
    "* Link"
   ],
   "cell_type": "markdown",
   "metadata": {}
  },
  {
   "cell_type": "code",
   "execution_count": 4,
   "metadata": {},
   "outputs": [],
   "source": [
    "import re\n",
    "\n",
    "def cleanTxt(text):\n",
    " text = re.sub('@[A-Za-z0–9]+', '', text) #Rimuove le @menzioni\n",
    " text = re.sub('#', '', text) # Rimuove l'hashtag\n",
    " text = re.sub('https?:\\/\\/\\S+', '', text) # Rimuove i link\n",
    " return text\n",
    "\n",
    "df['text_clean'] = df.text_enc.apply(cleanTxt)\n"
   ]
  },
  {
   "source": [
    "## Language Detection\n",
    "il metodo `detect_langs` fornisce un vettore di possibilità riguardo la lingua del testo che sta analizzando. Vado a vedere se ci sono nel dataset testi ambigui (quindi quelli per cui la dimensione del `dict` ritornato da `detect_langs` è maggiore di 1).\n",
    "\n",
    "Utilizzo `langdetect` che è abbastanza veloce per generare una previsione sommaria. Esso restituisce la probabilità per ciascuna lingua trovata quindi:\n",
    "* se trovo una sola lingua tra quelle ammesse (en, es, fr) allora segno la lingua trovata e segno la detection come sicura\n",
    "* se trovo più di una lingua oppure trovo come lingua più probabile una non ammessa segno la lingua e segno la detection come insicura/sbagliata (`unsure_wrong_detection=True`) "
   ],
   "cell_type": "markdown",
   "metadata": {}
  },
  {
   "cell_type": "code",
   "execution_count": 5,
   "metadata": {},
   "outputs": [
    {
     "output_type": "stream",
     "name": "stdout",
     "text": [
      "errore alla posizione \ntesto : Vamos\n⤵⤵⤵⤵⤵⤵⤵⤵⤵⤵⤵⤵ https://t.co/DJw64hxzfj\n"
     ]
    },
    {
     "output_type": "execute_result",
     "data": {
      "text/plain": [
       "361"
      ]
     },
     "metadata": {},
     "execution_count": 5
    }
   ],
   "source": [
    "from langdetect import detect_langs\n",
    "\n",
    "unsure_count = 0\n",
    "wrong_count = 0\n",
    "i=0\n",
    "lang_detect = []\n",
    "unsure_wrong = []\n",
    "\n",
    "for twt in df.text_enc:\n",
    "    try:\n",
    "        detection = detect_langs(twt)\n",
    "        lang = detection[0].lang\n",
    "        \n",
    "        lang_detect.append(lang)\n",
    "        unsure_wrong.append(False)\n",
    "        \n",
    "        if((lang != \"en\") and (lang != \"es\") and (lang != \"fr\")):\n",
    "             wrong_count = wrong_count +1\n",
    "             unsure_wrong[i]=True\n",
    "        if(len(detection)>1):\n",
    "            unsure_wrong[i]=True\n",
    "            unsure_count = unsure_count+1\n",
    "\n",
    "    except:\n",
    "        print(\"errore alla posizione \")\n",
    "        i\n",
    "        print(\"testo : \" + twt)\n",
    "        lang_detect.append('None')\n",
    "        unsure_wrong.append(True)\n",
    "\n",
    "    i=i+1\n",
    "\n",
    "\n",
    "\n",
    "df['langdetect']=lang_detect\n",
    "df['unsure_wrong_detection'] = unsure_wrong\n",
    "\n",
    "unsure_wrong_sum = df['unsure_wrong_detection'].sum()\n",
    "unsure_wrong_sum"
   ]
  },
  {
   "source": [
    "# Check traduzione attraverso API Google \n",
    "I tweet dei quali la traduzione non è sicura sono stati marcati con un `True` all'interno della colonna `unsure_wrong_detection`. Utilizzo questa informazione per passare i questi tweet all'interno dell'API Google per la traduzione. Questo metodo non è stato utilizzato prima in quanto le possibili chiamate ai server Google sono limitate e molto lente."
   ],
   "cell_type": "markdown",
   "metadata": {}
  },
  {
   "cell_type": "code",
   "execution_count": 6,
   "metadata": {},
   "outputs": [
    {
     "output_type": "stream",
     "name": "stderr",
     "text": [
      "<ipython-input-6-a1ccfe04557f>:17: SettingWithCopyWarning: \n",
      "A value is trying to be set on a copy of a slice from a DataFrame\n",
      "\n",
      "See the caveats in the documentation: https://pandas.pydata.org/pandas-docs/stable/user_guide/indexing.html#returning-a-view-versus-a-copy\n",
      "  df['unsure_wrong_detection'][i]=False\n",
      "nesun match alla riga\n",
      "nesun match alla riga\n",
      "nesun match alla riga\n",
      "nesun match alla riga\n",
      "nesun match alla riga\n",
      "nesun match alla riga\n",
      "nesun match alla riga\n",
      "nesun match alla riga\n",
      "nesun match alla riga\n",
      "nesun match alla riga\n",
      "nesun match alla riga\n",
      "nesun match alla riga\n",
      "nesun match alla riga\n",
      "nesun match alla riga\n",
      "nesun match alla riga\n",
      "nesun match alla riga\n",
      "nesun match alla riga\n",
      "nesun match alla riga\n",
      "nesun match alla riga\n",
      "nesun match alla riga\n",
      "nesun match alla riga\n",
      "nesun match alla riga\n",
      "nesun match alla riga\n",
      "nesun match alla riga\n",
      "nesun match alla riga\n",
      "nesun match alla riga\n",
      "nesun match alla riga\n",
      "nesun match alla riga\n",
      "nesun match alla riga\n",
      "nesun match alla riga\n",
      "nesun match alla riga\n",
      "nesun match alla riga\n",
      "nesun match alla riga\n",
      "nesun match alla riga\n",
      "nesun match alla riga\n",
      "nesun match alla riga\n",
      "nesun match alla riga\n",
      "nesun match alla riga\n"
     ]
    }
   ],
   "source": [
    "from textblob import TextBlob\n",
    "\n",
    "lang_detect_final = []\n",
    "i = 0\n",
    "for twt in df.text_clean:\n",
    "    if not df['unsure_wrong_detection'][i]:\n",
    "        lang_detect_final.append(df['langdetect'][i])\n",
    "    else:\n",
    "        blob = TextBlob(twt)\n",
    "        lang = blob.detect_language()\n",
    "        if((lang != \"en\") and (lang != \"es\") and (lang != \"fr\")):\n",
    "            lang_detect_final.append('None')\n",
    "            print(\"nesun match alla riga\")\n",
    "            i\n",
    "        else:\n",
    "            lang_detect_final.append(lang)\n",
    "            df['unsure_wrong_detection'][i]=False\n",
    "    i=i+1\n",
    "\n",
    "df['lang_detect_final'] = lang_detect_final"
   ]
  },
  {
   "cell_type": "code",
   "execution_count": 7,
   "metadata": {},
   "outputs": [
    {
     "output_type": "execute_result",
     "data": {
      "text/plain": [
       "38"
      ]
     },
     "metadata": {},
     "execution_count": 7
    }
   ],
   "source": [
    "df.unsure_wrong_detection.sum()"
   ]
  },
  {
   "source": [
    "## Esportazione dei dati su formato Excel\n",
    "Excel non supporta le date con le timezone quindi le ho dovute eliminare con il metodo `datetime.tz_localize()`"
   ],
   "cell_type": "markdown",
   "metadata": {}
  },
  {
   "cell_type": "code",
   "execution_count": 9,
   "metadata": {},
   "outputs": [],
   "source": [
    "df_enc = df[['favorite_count', 'source', 'text_enc', 'text_clean', 'is_retweet', 'retweet_count', 'created_at', 'langdetect', 'unsure_wrong_detection', 'lang_detect_final']]\n",
    "df_enc.loc[:,'created_at_ntz']= df_enc.created_at.dt.tz_localize(None)\n",
    "df_enc.drop(columns='created_at')\n",
    "df_enc = df_enc.drop(columns='created_at')\n",
    "df_enc.to_excel('data_dec.xlsx')"
   ]
  },
  {
   "cell_type": "code",
   "execution_count": null,
   "metadata": {},
   "outputs": [],
   "source": []
  }
 ]
}