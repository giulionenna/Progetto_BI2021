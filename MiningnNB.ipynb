{
 "metadata": {
  "language_info": {
   "codemirror_mode": {
    "name": "ipython",
    "version": 3
   },
   "file_extension": ".py",
   "mimetype": "text/x-python",
   "name": "python",
   "nbconvert_exporter": "python",
   "pygments_lexer": "ipython3",
   "version": "3.8.3"
  },
  "orig_nbformat": 2,
  "kernelspec": {
   "name": "python383jvsc74a57bd0b0c5e0e2f737906a831bf449faf126f39cd636d4f6af7f79c115270e6548b001",
   "display_name": "Python 3.8.3 64-bit"
  },
  "metadata": {
   "interpreter": {
    "hash": "b0c5e0e2f737906a831bf449faf126f39cd636d4f6af7f79c115270e6548b001"
   }
  }
 },
 "nbformat": 4,
 "nbformat_minor": 2,
 "cells": [
  {
   "cell_type": "code",
   "execution_count": 1,
   "metadata": {},
   "outputs": [],
   "source": [
    "import pandas as pd"
   ]
  },
  {
   "cell_type": "code",
   "execution_count": 13,
   "metadata": {},
   "outputs": [],
   "source": [
    "data = pd.read_csv(r'C:\\Users\\giuli\\Documents\\GitHub\\Progetto_BI2021\\data.csv', parse_dates=['created_at'] )\n",
    "df = pd.DataFrame(data)"
   ]
  },
  {
   "cell_type": "code",
   "execution_count": 25,
   "metadata": {},
   "outputs": [
    {
     "output_type": "execute_result",
     "data": {
      "text/plain": [
       "      favorite_count               source  \\\n",
       "0                  1  Twitter for Android   \n",
       "1                  0   Twitter for iPhone   \n",
       "2                  0  Twitter for Android   \n",
       "3                  0      Twitter Web App   \n",
       "4                  0   Twitter for iPhone   \n",
       "...              ...                  ...   \n",
       "4163               4     Tweetbot for Mac   \n",
       "4164               5      Twitter Web App   \n",
       "4165               2  Twitter for Android   \n",
       "4166               8      Twitter Web App   \n",
       "4167               0               Buffer   \n",
       "\n",
       "                                                   text  is_retweet  \\\n",
       "0     b'La #monarqu\\xc3\\xada se burla a diario de lo...       False   \n",
       "1     b'@TitusNation the CON serving CONservative GO...       False   \n",
       "2     b'#Coronavirus\\nAustria and Denmark are to sto...       False   \n",
       "3     b'BMC launches \\xe2\\x80\\x98Mission Zero\\xe2\\x8...       False   \n",
       "4     b'@Gadaffyduck @IsabelOakeshott @AmandaHolden ...       False   \n",
       "...                                                 ...         ...   \n",
       "4163  b'In other news, I have been jabbed with the f...       False   \n",
       "4164  b\"So nearly 10% of today's new cases are the n...       False   \n",
       "4165  b\"Read this\\n\\nThen read it again\\n\\nWritten, ...       False   \n",
       "4166  b'\\xe2\\x80\\xbc\\xef\\xb8\\x8fUpdate\\xe2\\x80\\xbc\\x...       False   \n",
       "4167  b\"As part NJ's efforts to expand access to men...       False   \n",
       "\n",
       "                    created_at  retweet_count  \n",
       "0    2021-03-03 07:46:48+00:00              0  \n",
       "1    2021-03-03 17:22:21+00:00              0  \n",
       "2    2021-03-03 08:47:26+00:00              0  \n",
       "3    2021-03-01 12:23:57+00:00              0  \n",
       "4    2021-03-04 20:49:11+00:00              0  \n",
       "...                        ...            ...  \n",
       "4163 2021-03-02 19:18:52+00:00              0  \n",
       "4164 2021-03-04 22:56:28+00:00              4  \n",
       "4165 2021-03-04 07:46:47+00:00              1  \n",
       "4166 2021-03-04 12:39:09+00:00              4  \n",
       "4167 2021-03-01 13:26:15+00:00              1  \n",
       "\n",
       "[4168 rows x 6 columns]"
      ],
      "text/html": "<div>\n<style scoped>\n    .dataframe tbody tr th:only-of-type {\n        vertical-align: middle;\n    }\n\n    .dataframe tbody tr th {\n        vertical-align: top;\n    }\n\n    .dataframe thead th {\n        text-align: right;\n    }\n</style>\n<table border=\"1\" class=\"dataframe\">\n  <thead>\n    <tr style=\"text-align: right;\">\n      <th></th>\n      <th>favorite_count</th>\n      <th>source</th>\n      <th>text</th>\n      <th>is_retweet</th>\n      <th>created_at</th>\n      <th>retweet_count</th>\n    </tr>\n  </thead>\n  <tbody>\n    <tr>\n      <th>0</th>\n      <td>1</td>\n      <td>Twitter for Android</td>\n      <td>b'La #monarqu\\xc3\\xada se burla a diario de lo...</td>\n      <td>False</td>\n      <td>2021-03-03 07:46:48+00:00</td>\n      <td>0</td>\n    </tr>\n    <tr>\n      <th>1</th>\n      <td>0</td>\n      <td>Twitter for iPhone</td>\n      <td>b'@TitusNation the CON serving CONservative GO...</td>\n      <td>False</td>\n      <td>2021-03-03 17:22:21+00:00</td>\n      <td>0</td>\n    </tr>\n    <tr>\n      <th>2</th>\n      <td>0</td>\n      <td>Twitter for Android</td>\n      <td>b'#Coronavirus\\nAustria and Denmark are to sto...</td>\n      <td>False</td>\n      <td>2021-03-03 08:47:26+00:00</td>\n      <td>0</td>\n    </tr>\n    <tr>\n      <th>3</th>\n      <td>0</td>\n      <td>Twitter Web App</td>\n      <td>b'BMC launches \\xe2\\x80\\x98Mission Zero\\xe2\\x8...</td>\n      <td>False</td>\n      <td>2021-03-01 12:23:57+00:00</td>\n      <td>0</td>\n    </tr>\n    <tr>\n      <th>4</th>\n      <td>0</td>\n      <td>Twitter for iPhone</td>\n      <td>b'@Gadaffyduck @IsabelOakeshott @AmandaHolden ...</td>\n      <td>False</td>\n      <td>2021-03-04 20:49:11+00:00</td>\n      <td>0</td>\n    </tr>\n    <tr>\n      <th>...</th>\n      <td>...</td>\n      <td>...</td>\n      <td>...</td>\n      <td>...</td>\n      <td>...</td>\n      <td>...</td>\n    </tr>\n    <tr>\n      <th>4163</th>\n      <td>4</td>\n      <td>Tweetbot for Mac</td>\n      <td>b'In other news, I have been jabbed with the f...</td>\n      <td>False</td>\n      <td>2021-03-02 19:18:52+00:00</td>\n      <td>0</td>\n    </tr>\n    <tr>\n      <th>4164</th>\n      <td>5</td>\n      <td>Twitter Web App</td>\n      <td>b\"So nearly 10% of today's new cases are the n...</td>\n      <td>False</td>\n      <td>2021-03-04 22:56:28+00:00</td>\n      <td>4</td>\n    </tr>\n    <tr>\n      <th>4165</th>\n      <td>2</td>\n      <td>Twitter for Android</td>\n      <td>b\"Read this\\n\\nThen read it again\\n\\nWritten, ...</td>\n      <td>False</td>\n      <td>2021-03-04 07:46:47+00:00</td>\n      <td>1</td>\n    </tr>\n    <tr>\n      <th>4166</th>\n      <td>8</td>\n      <td>Twitter Web App</td>\n      <td>b'\\xe2\\x80\\xbc\\xef\\xb8\\x8fUpdate\\xe2\\x80\\xbc\\x...</td>\n      <td>False</td>\n      <td>2021-03-04 12:39:09+00:00</td>\n      <td>4</td>\n    </tr>\n    <tr>\n      <th>4167</th>\n      <td>0</td>\n      <td>Buffer</td>\n      <td>b\"As part NJ's efforts to expand access to men...</td>\n      <td>False</td>\n      <td>2021-03-01 13:26:15+00:00</td>\n      <td>1</td>\n    </tr>\n  </tbody>\n</table>\n<p>4168 rows × 6 columns</p>\n</div>"
     },
     "metadata": {},
     "execution_count": 25
    }
   ],
   "source": [
    "df"
   ]
  },
  {
   "cell_type": "code",
   "execution_count": null,
   "metadata": {},
   "outputs": [],
   "source": []
  }
 ]
}